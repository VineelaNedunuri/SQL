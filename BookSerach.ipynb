{
 "cells": [
  {
   "attachments": {},
   "cell_type": "markdown",
   "metadata": {},
   "source": [
    "# Establishing a database connection\n"
   ]
  },
  {
   "cell_type": "code",
   "execution_count": 2,
   "metadata": {},
   "outputs": [
    {
     "name": "stdout",
     "output_type": "stream",
     "text": [
      "Connecting to database using URL string:\n",
      "mssql+pyodbc://?odbc_connect=DRIVER=ODBC+Driver+17+for+SQL+Server;SERVER=localhost;DATABASE=BookStore;Trusted_Connection=yes \n",
      "\n",
      "Successfully connected to BookStore!\n"
     ]
    }
   ],
   "source": [
    "from sqlalchemy import create_engine\n",
    "from sqlalchemy.engine import URL\n",
    "from urllib.parse import unquote\n",
    "\n",
    "server_name   = \"localhost\"\n",
    "database_name = \"BookStore\"\n",
    "\n",
    "connection_string = f\"DRIVER=ODBC Driver 17 for SQL Server;SERVER={server_name};DATABASE={database_name};Trusted_Connection=yes\"\n",
    "url_string        = URL.create(\"mssql+pyodbc\", query={\"odbc_connect\": connection_string})\n",
    "\n",
    "print('Connecting to database using URL string:')\n",
    "unquoted_url = unquote(str(url_string))\n",
    "print(unquoted_url, '\\n')\n",
    "\n",
    "try:    \n",
    "    engine = create_engine(url_string)\n",
    "    with engine.connect() as connection:\n",
    "        print(f'Successfully connected to {database_name}!')\n",
    "except Exception as e:\n",
    "    print('Error while connecting to database:\\n')\n",
    "    print(e)\n"
   ]
  },
  {
   "attachments": {},
   "cell_type": "markdown",
   "metadata": {},
   "source": [
    "### To protect against SQL injection, use parameterized queries instead of string concatenation"
   ]
  },
  {
   "cell_type": "code",
   "execution_count": 38,
   "metadata": {},
   "outputs": [
    {
     "name": "stdout",
     "output_type": "stream",
     "text": [
      "The Mist is available at Akademibokhandeln with 4 copies.\n",
      "The Mist is available at The English Bookshop with 9 copies.\n",
      "The Mist is available at Pocket Shop with 10 copies.\n"
     ]
    }
   ],
   "source": [
    "from sqlalchemy import create_engine, text\n",
    "\n",
    "\n",
    "# Define a function to search for books based on a search term\n",
    "def search_books(title_query):\n",
    "    \n",
    "    # Use parameterization to protect against SQL injection\n",
    "    query = text(\"\"\"\n",
    "        SELECT  B.title, I.Quantity as num_copies, S.StoreName\n",
    "        FROM Books B\n",
    "        join InventoryBalance I on B.ISBN13= I.ISBN13\n",
    "\t\tjoin Stores S on I.StoreID = S.ID\n",
    "        WHERE b.title LIKE :title_query\n",
    "        GROUP BY B.title, I.Quantity, S.StoreName\n",
    "    \"\"\")\n",
    "    # Use ILIKE instead of LIKE to make the search case-insensitive\n",
    "\n",
    "    with engine.connect() as conn:\n",
    "        result = conn.execute(query, {'title_query': f'%{title_query}%'})\n",
    "        books = result.fetchall()\n",
    "        return books\n",
    "\n",
    "#  enter a search term and display the results\n",
    "title_query = input(\"Enter the title of the book that looking for: \")\n",
    "books = search_books(title_query)\n",
    "if not books:\n",
    "    print(\"No matches found\")\n",
    "else:\n",
    "    for book in books:\n",
    "        print(f\"{book.title} is available at {book.StoreName} with {book.num_copies} copies.\")\n",
    "\n",
    "\n"
   ]
  }
 ],
 "metadata": {
  "kernelspec": {
   "display_name": "SQL-Kbdwhbyh",
   "language": "python",
   "name": "python3"
  },
  "language_info": {
   "codemirror_mode": {
    "name": "ipython",
    "version": 3
   },
   "file_extension": ".py",
   "mimetype": "text/x-python",
   "name": "python",
   "nbconvert_exporter": "python",
   "pygments_lexer": "ipython3",
   "version": "3.9.13"
  },
  "orig_nbformat": 4
 },
 "nbformat": 4,
 "nbformat_minor": 2
}
